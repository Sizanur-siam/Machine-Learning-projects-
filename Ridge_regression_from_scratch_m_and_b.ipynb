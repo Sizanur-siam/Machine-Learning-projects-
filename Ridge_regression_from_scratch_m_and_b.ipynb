{
  "nbformat": 4,
  "nbformat_minor": 0,
  "metadata": {
    "colab": {
      "provenance": [],
      "authorship_tag": "ABX9TyMckQw9JmfoWJdA5flYPpjk",
      "include_colab_link": true
    },
    "kernelspec": {
      "name": "python3",
      "display_name": "Python 3"
    },
    "language_info": {
      "name": "python"
    }
  },
  "cells": [
    {
      "cell_type": "markdown",
      "metadata": {
        "id": "view-in-github",
        "colab_type": "text"
      },
      "source": [
        "<a href=\"https://colab.research.google.com/github/Sizanur-siam/Machine-Learning-projects-/blob/main/Ridge_regression_from_scratch_m_and_b.ipynb\" target=\"_parent\"><img src=\"https://colab.research.google.com/assets/colab-badge.svg\" alt=\"Open In Colab\"/></a>"
      ]
    },
    {
      "cell_type": "markdown",
      "source": [
        "2-D dataset using Ridge  regression-from-scratch-m-and-b"
      ],
      "metadata": {
        "id": "1q3eD0Gpp9Vx"
      }
    },
    {
      "cell_type": "markdown",
      "source": [],
      "metadata": {
        "id": "boLreC5PqMiw"
      }
    },
    {
      "cell_type": "markdown",
      "source": [
        "1st using Scikit-learn for Ridge regression then create Ridge regression class for 2-d dataset\n"
      ],
      "metadata": {
        "id": "XbUWwxe_qfWx"
      }
    },
    {
      "cell_type": "markdown",
      "source": [
        "Using LinearRegression sklean class"
      ],
      "metadata": {
        "id": "R76DoPGErWt4"
      }
    },
    {
      "cell_type": "code",
      "source": [
        "from sklearn.datasets import make_regression\n",
        "import matplotlib.pyplot as plt\n",
        "import numpy as np\n"
      ],
      "metadata": {
        "id": "BPwnsTYUq5mJ"
      },
      "execution_count": 29,
      "outputs": []
    },
    {
      "cell_type": "code",
      "source": [
        "X,y=make_regression(n_samples=100,n_features=1, n_informative=1, n_targets=1,noise=20,random_state=13)"
      ],
      "metadata": {
        "id": "cn9rHjDZrqIx"
      },
      "execution_count": 30,
      "outputs": []
    },
    {
      "cell_type": "code",
      "source": [
        "plt.scatter(X,y)"
      ],
      "metadata": {
        "colab": {
          "base_uri": "https://localhost:8080/",
          "height": 447
        },
        "id": "1lrwcahsr6h6",
        "outputId": "ee6f000d-7cac-40e7-9e80-0ff6eced7bbb"
      },
      "execution_count": 31,
      "outputs": [
        {
          "output_type": "execute_result",
          "data": {
            "text/plain": [
              "<matplotlib.collections.PathCollection at 0x7ab1b95b8340>"
            ]
          },
          "metadata": {},
          "execution_count": 31
        },
        {
          "output_type": "display_data",
          "data": {
            "text/plain": [
              "<Figure size 640x480 with 1 Axes>"
            ],
            "image/png": "[encoded data removed]"
          },
          "metadata": {}
        }
      ]
    },
    {
      "cell_type": "code",
      "source": [
        "X.shape\n"
      ],
      "metadata": {
        "colab": {
          "base_uri": "https://localhost:8080/"
        },
        "id": "meeHrR8dsBgQ",
        "outputId": "52174c89-f31c-43c5-8808-d82e1343d3f8"
      },
      "execution_count": 32,
      "outputs": [
        {
          "output_type": "execute_result",
          "data": {
            "text/plain": [
              "(100, 1)"
            ]
          },
          "metadata": {},
          "execution_count": 32
        }
      ]
    },
    {
      "cell_type": "code",
      "source": [
        "from sklearn.linear_model import LinearRegression"
      ],
      "metadata": {
        "id": "8Hybyz2BsHPg"
      },
      "execution_count": 5,
      "outputs": []
    },
    {
      "cell_type": "code",
      "source": [
        "lr=LinearRegression()\n",
        "lr.fit(X,y)\n",
        "print(lr.coef_)\n",
        "print(lr.intercept_)"
      ],
      "metadata": {
        "colab": {
          "base_uri": "https://localhost:8080/"
        },
        "id": "Kga-BiDvsmBg",
        "outputId": "72d94a2e-0a39-4fd0-e1f0-2c734727b0b8"
      },
      "execution_count": 33,
      "outputs": [
        {
          "output_type": "stream",
          "name": "stdout",
          "text": [
            "[27.82809103]\n",
            "-2.29474455867698\n"
          ]
        }
      ]
    },
    {
      "cell_type": "markdown",
      "source": [
        "Using RIDGE Regression"
      ],
      "metadata": {
        "id": "x7e4Jni4tYLA"
      }
    },
    {
      "cell_type": "code",
      "source": [
        "from sklearn.linear_model import Ridge"
      ],
      "metadata": {
        "id": "ZhHqrZnOtjXA"
      },
      "execution_count": 38,
      "outputs": []
    },
    {
      "cell_type": "code",
      "source": [
        "rg=Ridge(alpha=30)\n",
        "rg.fit(X,y)\n",
        "print(rg.coef_)\n",
        "print(rg.intercept_)"
      ],
      "metadata": {
        "colab": {
          "base_uri": "https://localhost:8080/"
        },
        "id": "MCtWdR2MtoqZ",
        "outputId": "15b37419-0671-4cac-f07c-4d0c04b4b54c"
      },
      "execution_count": 42,
      "outputs": [
        {
          "output_type": "stream",
          "name": "stdout",
          "text": [
            "[20.68322312]\n",
            "-1.877431463646115\n"
          ]
        }
      ]
    },
    {
      "cell_type": "code",
      "source": [
        "rg1=Ridge(alpha=100)\n",
        "rg1.fit(X,y)\n",
        "print(rg1.coef_)\n",
        "print(rg1.intercept_)"
      ],
      "metadata": {
        "colab": {
          "base_uri": "https://localhost:8080/"
        },
        "id": "reEHVqVCuCDA",
        "outputId": "190f1664-78ee-45fc-e9ee-f738b85ee2d3"
      },
      "execution_count": 41,
      "outputs": [
        {
          "output_type": "stream",
          "name": "stdout",
          "text": [
            "[12.93442104]\n",
            "-1.4248441496033308\n"
          ]
        }
      ]
    },
    {
      "cell_type": "markdown",
      "source": [
        "use plot to compair Linear and Ridge regression"
      ],
      "metadata": {
        "id": "FZkN2NW2ulXo"
      }
    },
    {
      "cell_type": "code",
      "source": [
        "plt.plot(X,y,'g^')\n",
        "plt.plot(X,lr.predict(X),color='red',label='alpha=0')\n",
        "plt.plot(X,rg.predict(X),color='green',label='alpha=30')\n",
        "plt.plot(X,rg1.predict(X),color='orange',label='alpha=100')\n",
        "plt.legend()"
      ],
      "metadata": {
        "colab": {
          "base_uri": "https://localhost:8080/",
          "height": 447
        },
        "id": "Yi48sYeLvNKI",
        "outputId": "90d0bd74-9f1b-4143-aa61-e0ffa05623c5"
      },
      "execution_count": 48,
      "outputs": [
        {
          "output_type": "execute_result",
          "data": {
            "text/plain": [
              "<matplotlib.legend.Legend at 0x7ab1b7c2b910>"
            ]
          },
          "metadata": {},
          "execution_count": 48
        },
        {
          "output_type": "display_data",
          "data": {
            "text/plain": [
              "<Figure size 640x480 with 1 Axes>"
            ],
            "image/png": "[encoded data removed]"
          },
          "metadata": {}
        }
      ]
    },
    {
      "cell_type": "markdown",
      "source": [
        "create Ridge  regression-from-scratch-m-and-b using 2-d dataset"
      ],
      "metadata": {
        "id": "EVAEhS9xxIeg"
      }
    },
    {
      "cell_type": "code",
      "source": [
        "class MyRidge:\n",
        "\n",
        "    def __init__(self,alpha=0.1):\n",
        "        self.alpha = alpha\n",
        "        self.m = None\n",
        "        self.b = None\n",
        "\n",
        "    def fit(self,X_train,y_train):\n",
        "\n",
        "        num = 0\n",
        "        den = 0\n",
        "\n",
        "        for i in range(X_train.shape[0]):\n",
        "            num = num + (y_train[i] - y_train.mean())*(X_train[i] - X_train.mean())\n",
        "            den = den + (X_train[i] - X_train.mean())*(X_train[i] - X_train.mean())\n",
        "\n",
        "        self.m = num/(den + self.alpha)\n",
        "        self.b = y_train.mean() - (self.m*X_train.mean())\n",
        "        print(self.m,self.b)\n",
        "\n",
        "    def predict(X_test):\n",
        "        pass\n"
      ],
      "metadata": {
        "id": "4sTg2x6gxV7I"
      },
      "execution_count": 53,
      "outputs": []
    },
    {
      "cell_type": "code",
      "source": [
        "ridge=MyRidge(alpha=30)"
      ],
      "metadata": {
        "id": "aY2rZxLLyEPQ"
      },
      "execution_count": 57,
      "outputs": []
    },
    {
      "cell_type": "code",
      "source": [
        "ridge.fit(X,y)"
      ],
      "metadata": {
        "colab": {
          "base_uri": "https://localhost:8080/"
        },
        "id": "qPGNrETjyJ5Q",
        "outputId": "ff06f13f-20dc-4ef8-f42a-e1dc52d43182"
      },
      "execution_count": 58,
      "outputs": [
        {
          "output_type": "stream",
          "name": "stdout",
          "text": [
            "[20.68322312] [-1.87743146]\n"
          ]
        }
      ]
    }
  ]
}