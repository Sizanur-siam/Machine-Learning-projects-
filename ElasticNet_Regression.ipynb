{
  "nbformat": 4,
  "nbformat_minor": 0,
  "metadata": {
    "colab": {
      "provenance": [],
      "authorship_tag": "ABX9TyP6ZV/ZYkJsoKK8003h/QLh",
      "include_colab_link": true
    },
    "kernelspec": {
      "name": "python3",
      "display_name": "Python 3"
    },
    "language_info": {
      "name": "python"
    }
  },
  "cells": [
    {
      "cell_type": "markdown",
      "metadata": {
        "id": "view-in-github",
        "colab_type": "text"
      },
      "source": [
        "<a href=\"https://colab.research.google.com/github/Sizanur-siam/Machine-Learning-projects-/blob/main/ElasticNet_Regression.ipynb\" target=\"_parent\"><img src=\"https://colab.research.google.com/assets/colab-badge.svg\" alt=\"Open In Colab\"/></a>"
      ]
    },
    {
      "cell_type": "code",
      "execution_count": 23,
      "metadata": {
        "id": "cP2-tyRyL-iv"
      },
      "outputs": [],
      "source": [
        "from sklearn.datasets import load_diabetes\n",
        "from sklearn.model_selection import train_test_split\n",
        "from sklearn.linear_model import LinearRegression,Ridge,Lasso,ElasticNet,SGDRegressor\n",
        "from sklearn.metrics import mean_squared_error,r2_score\n"
      ]
    },
    {
      "cell_type": "code",
      "source": [
        "X,y=load_diabetes(return_X_y=True)"
      ],
      "metadata": {
        "id": "OsuefwToNLP3"
      },
      "execution_count": 4,
      "outputs": []
    },
    {
      "cell_type": "code",
      "source": [
        "X_train,X_test,y_train,y_test=train_test_split(X,y,test_size=0.2,random_state=2)"
      ],
      "metadata": {
        "id": "sv6aqZp9NOyl"
      },
      "execution_count": 5,
      "outputs": []
    },
    {
      "cell_type": "markdown",
      "source": [
        "#Use linear Regression"
      ],
      "metadata": {
        "id": "pXc4fhQwNjq-"
      }
    },
    {
      "cell_type": "code",
      "source": [
        "lr=LinearRegression()\n",
        "lr.fit(X_train,y_train)\n",
        "y_pred=lr.predict(X_test)\n",
        "print(\"R2 Score: \",r2_score(y_test,y_pred))"
      ],
      "metadata": {
        "colab": {
          "base_uri": "https://localhost:8080/"
        },
        "id": "YOpWerwQNy6X",
        "outputId": "06e50840-e63f-46f0-ef10-346c46cf25dd"
      },
      "execution_count": 19,
      "outputs": [
        {
          "output_type": "stream",
          "name": "stdout",
          "text": [
            "R2 Score:  0.4399338661568968\n"
          ]
        }
      ]
    },
    {
      "cell_type": "markdown",
      "source": [
        "#Use Ridge Regresssion"
      ],
      "metadata": {
        "id": "louPEuQ2ONb2"
      }
    },
    {
      "cell_type": "code",
      "source": [
        "rr=Ridge(alpha=0.1)\n",
        "rr.fit(X_train,y_train)\n",
        "y_pred=rr.predict(X_test)\n",
        "print(\"R2 Score: \",r2_score(y_test,y_pred))"
      ],
      "metadata": {
        "colab": {
          "base_uri": "https://localhost:8080/"
        },
        "id": "o7k4QI4wOM-O",
        "outputId": "2b45039d-2dde-4402-b44b-cd97318d1672"
      },
      "execution_count": 8,
      "outputs": [
        {
          "output_type": "stream",
          "name": "stdout",
          "text": [
            "R2 Score:  0.45199494197195456\n"
          ]
        }
      ]
    },
    {
      "cell_type": "markdown",
      "source": [
        "#Use Lasso Regression"
      ],
      "metadata": {
        "id": "eeml2OGHOeA2"
      }
    },
    {
      "cell_type": "code",
      "source": [
        "lar=Lasso(alpha=0.1)\n",
        "lar.fit(X_train,y_train)\n",
        "y_pred=lar.predict(X_test)\n",
        "print(\"R2 Score: \",r2_score(y_test,y_pred))"
      ],
      "metadata": {
        "colab": {
          "base_uri": "https://localhost:8080/"
        },
        "id": "wjaQXHTmOdre",
        "outputId": "068d0a80-54f9-40fe-fc0f-49761f794e83"
      },
      "execution_count": 18,
      "outputs": [
        {
          "output_type": "stream",
          "name": "stdout",
          "text": [
            "R2 Score:  0.4334618007658305\n"
          ]
        }
      ]
    },
    {
      "cell_type": "markdown",
      "source": [
        "#Use ElasticNet"
      ],
      "metadata": {
        "id": "U_ShM0upO5RH"
      }
    },
    {
      "cell_type": "code",
      "source": [
        "elr=ElasticNet(l1_ratio=0.9,alpha=0.01)\n",
        "elr.fit(X_train,y_train)\n",
        "y_pred=elr.predict(X_test)\n",
        "print(\"R2 Score: \",r2_score(y_test,y_pred))"
      ],
      "metadata": {
        "colab": {
          "base_uri": "https://localhost:8080/"
        },
        "id": "k_Ly8UXoPC4u",
        "outputId": "59c06821-7153-43d0-99ee-afae83bfbfc6"
      },
      "execution_count": 17,
      "outputs": [
        {
          "output_type": "stream",
          "name": "stdout",
          "text": [
            "R2 Score:  0.4477983324130236\n"
          ]
        }
      ]
    },
    {
      "cell_type": "markdown",
      "source": [
        "#Use SGDregression"
      ],
      "metadata": {
        "id": "tOnmf2jUPY7W"
      }
    },
    {
      "cell_type": "code",
      "source": [
        "sgdr=SGDRegressor(penalty='elasticnet')\n",
        "sgdr.fit(X_train,y_train)\n",
        "y_pred=sgdr.predict(X_test)\n",
        "print(\"R2 Score: \",r2_score(y_test,y_pred))\n"
      ],
      "metadata": {
        "colab": {
          "base_uri": "https://localhost:8080/"
        },
        "id": "qIKdSJZRPiVu",
        "outputId": "a46ed02b-4317-413e-e46e-038eee925520"
      },
      "execution_count": 25,
      "outputs": [
        {
          "output_type": "stream",
          "name": "stdout",
          "text": [
            "R2 Score:  0.3934021746807542\n"
          ]
        },
        {
          "output_type": "stream",
          "name": "stderr",
          "text": [
            "/usr/local/lib/python3.10/dist-packages/sklearn/linear_model/_stochastic_gradient.py:1616: ConvergenceWarning: Maximum number of iteration reached before convergence. Consider increasing max_iter to improve the fit.\n",
            "  warnings.warn(\n"
          ]
        }
      ]
    }
  ]
}