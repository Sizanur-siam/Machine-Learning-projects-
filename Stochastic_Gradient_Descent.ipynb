{
  "nbformat": 4,
  "nbformat_minor": 0,
  "metadata": {
    "colab": {
      "provenance": [],
      "authorship_tag": "ABX9TyO6n6rb750uHtdM5/uhXR4X",
      "include_colab_link": true
    },
    "kernelspec": {
      "name": "python3",
      "display_name": "Python 3"
    },
    "language_info": {
      "name": "python"
    }
  },
  "cells": [
    {
      "cell_type": "markdown",
      "metadata": {
        "id": "view-in-github",
        "colab_type": "text"
      },
      "source": [
        "<a href=\"https://colab.research.google.com/github/Sizanur-siam/The-Decorator-Pattern/blob/main/Stochastic_Gradient_Descent.ipynb\" target=\"_parent\"><img src=\"https://colab.research.google.com/assets/colab-badge.svg\" alt=\"Open In Colab\"/></a>"
      ]
    },
    {
      "cell_type": "code",
      "execution_count": null,
      "metadata": {
        "id": "jOf9xSh-kfDK"
      },
      "outputs": [],
      "source": [
        "from sklearn.datasets import load_diabetes\n",
        "\n",
        "import numpy as np\n",
        "from sklearn.linear_model import LinearRegression\n",
        "from sklearn.metrics import r2_score\n",
        "from sklearn.model_selection import train_test_split\n",
        "import time"
      ]
    },
    {
      "cell_type": "code",
      "source": [
        "X,y = load_diabetes(return_X_y=True)"
      ],
      "metadata": {
        "id": "Dp8v52S5kyrU"
      },
      "execution_count": null,
      "outputs": []
    },
    {
      "cell_type": "code",
      "source": [
        "X_train,X_test,y_train,y_test = train_test_split(X,y,test_size=0.2,random_state=2)"
      ],
      "metadata": {
        "id": "KsF0rFP8k3ZE"
      },
      "execution_count": null,
      "outputs": []
    },
    {
      "cell_type": "markdown",
      "source": [
        "stochastic-gradient-descent-from-scratch"
      ],
      "metadata": {
        "id": "LLTNNeIPk9kc"
      }
    },
    {
      "cell_type": "code",
      "source": [
        "class SGDRegressor:\n",
        "\n",
        "    def __init__(self,learning_rate=0.1,epochs=50):\n",
        "\n",
        "        self.coef_ = None\n",
        "        self.intercept_ = None\n",
        "        self.lr = learning_rate\n",
        "        self.epochs = epochs\n",
        "\n",
        "    def fit(self,X_train,y_train):\n",
        "        # init your coefs\n",
        "        self.intercept_ = 0\n",
        "        self.coef_ = np.ones(X_train.shape[1])\n",
        "\n",
        "        for i in range(self.epochs):\n",
        "            for j in range(X_train.shape[0]):\n",
        "                idx = np.random.randint(0,X_train.shape[0])\n",
        "\n",
        "                y_hat = np.dot(X_train[idx],self.coef_) + self.intercept_\n",
        "\n",
        "                intercept_der = -2 * (y_train[idx] - y_hat)\n",
        "                self.intercept_ = self.intercept_ - (self.lr * intercept_der)\n",
        "\n",
        "                coef_der = -2 * np.dot((y_train[idx] - y_hat),X_train[idx])\n",
        "                self.coef_ = self.coef_ - (self.lr * coef_der)\n",
        "\n",
        "        print(self.intercept_,self.coef_)\n",
        "\n",
        "    def predict(self,X_test):\n",
        "        return np.dot(X_test,self.coef_) + self.intercept_\n",
        "\n",
        "\n"
      ],
      "metadata": {
        "id": "eGHCbeOgk8j0"
      },
      "execution_count": null,
      "outputs": []
    },
    {
      "cell_type": "code",
      "source": [
        "SGDR=SGDRegressor()\n"
      ],
      "metadata": {
        "id": "yw49fIfrmFgE"
      },
      "execution_count": null,
      "outputs": []
    },
    {
      "cell_type": "code",
      "source": [
        "SGDR.fit(X_train,y_train)"
      ],
      "metadata": {
        "colab": {
          "base_uri": "https://localhost:8080/"
        },
        "id": "k_EmK8pfmQkU",
        "outputId": "01f94091-ad7f-4066-a34c-11d2e26ff4f1"
      },
      "execution_count": null,
      "outputs": [
        {
          "output_type": "stream",
          "name": "stdout",
          "text": [
            "158.06177631463896 [ -32.03983541 -189.46562467  539.3677578   325.09670714  -76.84665467\n",
            "  -99.42273211 -186.79165196   85.59473384  521.16404135   46.39537898]\n"
          ]
        }
      ]
    },
    {
      "cell_type": "code",
      "source": [
        "y_prediction=SGDR.predict(X_test)\n",
        "y_prediction"
      ],
      "metadata": {
        "colab": {
          "base_uri": "https://localhost:8080/"
        },
        "id": "fY66vnCGmaRE",
        "outputId": "0c804a18-f103-4ff0-b7a3-f9dc5e2da566"
      },
      "execution_count": null,
      "outputs": [
        {
          "output_type": "execute_result",
          "data": {
            "text/plain": [
              "array([154.94206434, 213.30690524, 129.54657277, 109.32951468,\n",
              "       274.86494492, 259.50331949, 118.59215164, 122.06707127,\n",
              "       102.65670837, 196.98720782, 146.82542105, 175.1481497 ,\n",
              "       181.69683693, 138.45092092, 307.23701077,  93.90779929,\n",
              "       216.30042567, 156.84796854, 137.12853527, 128.41701605,\n",
              "       158.42614355, 177.66835704, 154.70701714, 180.39837191,\n",
              "       132.34932272, 225.23922659, 203.65881372, 103.22867559,\n",
              "        63.19831233, 243.95642342, 253.93570527, 116.78497302,\n",
              "        78.11817991, 101.93360208, 210.46052274, 170.47325609,\n",
              "       163.61722841, 196.54160397, 119.0086834 , 237.29652838,\n",
              "       151.1365768 , 124.35142633, 202.73448761, 193.26308896,\n",
              "       180.87275887, 153.67204478, 170.07339099, 306.51140358,\n",
              "       107.78179571, 170.67575481, 261.13683496, 154.34107533,\n",
              "       160.33816923, 116.30152629, 196.42631942,  94.27901888,\n",
              "       127.19071896,  78.47316372, 159.68415303, 169.59294673,\n",
              "       168.79823882, 164.92884936, 105.42270577, 240.34610802,\n",
              "       149.36254001, 127.99136612, 169.23223981, 200.70693935,\n",
              "       124.58268091, 128.94686308, 226.5077299 , 206.6522768 ,\n",
              "       130.92551686, 160.21939471, 151.44372872, 121.908848  ,\n",
              "        86.53307949,  86.27771996, 175.07152545,  90.4240817 ,\n",
              "       104.80096439, 101.24890623, 190.54834123, 288.09702681,\n",
              "       208.95297908, 156.84122839, 294.30624251, 211.40154118,\n",
              "       101.15305299])"
            ]
          },
          "metadata": {},
          "execution_count": 32
        }
      ]
    },
    {
      "cell_type": "code",
      "source": [
        "from sklearn.metrics import r2_score\n",
        "r2_score(y_test,y_prediction)"
      ],
      "metadata": {
        "colab": {
          "base_uri": "https://localhost:8080/"
        },
        "id": "DqFOnh1cmkoz",
        "outputId": "f95a49e6-052f-4dfa-edc0-7ac2b8c1852a"
      },
      "execution_count": null,
      "outputs": [
        {
          "output_type": "execute_result",
          "data": {
            "text/plain": [
              "0.44426209741391265"
            ]
          },
          "metadata": {},
          "execution_count": 33
        }
      ]
    }
  ]
}